{
 "cells": [
  {
   "cell_type": "code",
   "execution_count": null,
   "id": "6c85f7b7-020c-498b-8dd1-2bfb4a43e9d9",
   "metadata": {},
   "outputs": [
    {
     "name": "stdout",
     "output_type": "stream",
     "text": [
      "\n",
      "1. Show Keys\n",
      "2. Show Values\n",
      "3. Show Items\n",
      "4. Get Value\n",
      "5. Remove Key\n",
      "6. Exit\n"
     ]
    },
    {
     "name": "stdin",
     "output_type": "stream",
     "text": [
      "Enter choice:  3\n"
     ]
    },
    {
     "name": "stdout",
     "output_type": "stream",
     "text": [
      "Items: dict_items([('name', 'Akanksha'), ('age', 24), ('city', 'Pune'), ('course', 'MCA')])\n",
      "\n",
      "1. Show Keys\n",
      "2. Show Values\n",
      "3. Show Items\n",
      "4. Get Value\n",
      "5. Remove Key\n",
      "6. Exit\n"
     ]
    },
    {
     "name": "stdin",
     "output_type": "stream",
     "text": [
      "Enter choice:  2\n"
     ]
    },
    {
     "name": "stdout",
     "output_type": "stream",
     "text": [
      "Values: dict_values(['Akanksha', 24, 'Pune', 'MCA'])\n",
      "\n",
      "1. Show Keys\n",
      "2. Show Values\n",
      "3. Show Items\n",
      "4. Get Value\n",
      "5. Remove Key\n",
      "6. Exit\n"
     ]
    }
   ],
   "source": [
    "#write menu driven python program to implement atleast 5 build in functions of dictonary\n",
    "\n",
    "dict = {\"name\": \"Akanksha\", \"age\": 21, \"city\": \"Pune\", \"course\": \"MCA\"}\n",
    "while True:\n",
    "    print(\"\\n1. Show Keys\\n2. Show Values\\n3. Show Items\\n4. Get Value\\n5. Remove Key\\n6. Exit\")\n",
    "    choice = input(\"Enter choice: \")\n",
    "\n",
    "    if choice == '1':\n",
    "        print(\"Keys:\", dict.keys())\n",
    "    elif choice == '2':\n",
    "        print(\"Values:\", dict.values())\n",
    "    elif choice == '3':\n",
    "        print(\"Items:\", dict.items())\n",
    "    elif choice == '4':\n",
    "        key = input(\"Enter key: \")\n",
    "        print(\"Value:\", dict.get(key, \"Not found\"))\n",
    "    elif choice == '5':\n",
    "        key = input(\"Enter key to remove: \")\n",
    "        print(\"Removed:\", dict.pop(key, \"Key not found\"))\n",
    "    elif choice == '6':\n",
    "        break\n",
    "    else:\n",
    "        print(\"Invalid choice!\")\n"
   ]
  },
  {
   "cell_type": "code",
   "execution_count": null,
   "id": "eb3e5ed0-7f3e-44b4-adcf-e606ee40407a",
   "metadata": {},
   "outputs": [
    {
     "name": "stdout",
     "output_type": "stream",
     "text": [
      "\n",
      "1. Length of tuple\n",
      "2. Maximum value\n",
      "3. Minimum value\n",
      "4. Count occurrences of an element\n",
      "5. Find index of an element\n",
      "6. Exit\n"
     ]
    },
    {
     "name": "stdin",
     "output_type": "stream",
     "text": [
      "Enter your choice:  2\n"
     ]
    },
    {
     "name": "stdout",
     "output_type": "stream",
     "text": [
      "Maximum value: 60\n",
      "\n",
      "1. Length of tuple\n",
      "2. Maximum value\n",
      "3. Minimum value\n",
      "4. Count occurrences of an element\n",
      "5. Find index of an element\n",
      "6. Exit\n"
     ]
    }
   ],
   "source": [
    "#write menu driven python program to implement atleast 5 build in functions of tuple\n",
    "tup = (2,4,5,1,7,8,9,10)\n",
    "\n",
    "while True:\n",
    "    print(\"\\n1. Length of tuple\")\n",
    "    print(\"2. Maximum value\")\n",
    "    print(\"3. Minimum value\")\n",
    "    print(\"4. Count occurrences of an element\")\n",
    "    print(\"5. Find index of an element\")\n",
    "    print(\"6. Exit\")\n",
    "    \n",
    "    choice = int(input(\"Enter your choice: \"))\n",
    "\n",
    "    if choice == 1:\n",
    "        print(\"Length:\", len(tup))\n",
    "    elif choice == 2:\n",
    "        print(\"Maximum value:\", max(tup))\n",
    "    elif choice == 3:\n",
    "        print(\"Minimum value:\", min(tup))\n",
    "    elif choice == 4:\n",
    "        element = int(input(\"Enter element: \"))\n",
    "        print(\"Occurrences:\", tup.count(element))\n",
    "    elif choice == 5:\n",
    "        element = int(input(\"Enter element: \"))\n",
    "        print(\"Index:\", tup.index(element) if element in tup else \"Not found\")\n",
    "    elif choice == 6:\n",
    "        print(\"Exiting...\")\n",
    "        break\n",
    "    else:\n",
    "        print(\"Invalid choice! Try again.\")\n",
    "\n",
    "\n"
   ]
  },
  {
   "cell_type": "code",
   "execution_count": null,
   "id": "43405dda-9921-438c-a2c4-47e0798d39f1",
   "metadata": {},
   "outputs": [
    {
     "name": "stdout",
     "output_type": "stream",
     "text": [
      "\n",
      "Menu:\n",
      "1. Append an element\n",
      "2. Insert an element at a position\n",
      "3. Remove an element\n",
      "4. Sort the list\n",
      "5. Reverse the list\n",
      "6. Exit\n"
     ]
    },
    {
     "name": "stdin",
     "output_type": "stream",
     "text": [
      "Enter your choice:  4\n"
     ]
    },
    {
     "name": "stdout",
     "output_type": "stream",
     "text": [
      "List sorted.\n",
      "Current list: [1, 2, 3, 4, 5, 6, 7, 8, 9, 10]\n",
      "\n",
      "Menu:\n",
      "1. Append an element\n",
      "2. Insert an element at a position\n",
      "3. Remove an element\n",
      "4. Sort the list\n",
      "5. Reverse the list\n",
      "6. Exit\n"
     ]
    },
    {
     "name": "stdin",
     "output_type": "stream",
     "text": [
      "Enter your choice:  4\n"
     ]
    },
    {
     "name": "stdout",
     "output_type": "stream",
     "text": [
      "List sorted.\n",
      "Current list: [1, 2, 3, 4, 5, 6, 7, 8, 9, 10]\n",
      "\n",
      "Menu:\n",
      "1. Append an element\n",
      "2. Insert an element at a position\n",
      "3. Remove an element\n",
      "4. Sort the list\n",
      "5. Reverse the list\n",
      "6. Exit\n"
     ]
    },
    {
     "name": "stdin",
     "output_type": "stream",
     "text": [
      "Enter your choice:  5\n"
     ]
    },
    {
     "name": "stdout",
     "output_type": "stream",
     "text": [
      "List reversed.\n",
      "Current list: [10, 9, 8, 7, 6, 5, 4, 3, 2, 1]\n",
      "\n",
      "Menu:\n",
      "1. Append an element\n",
      "2. Insert an element at a position\n",
      "3. Remove an element\n",
      "4. Sort the list\n",
      "5. Reverse the list\n",
      "6. Exit\n"
     ]
    },
    {
     "name": "stdin",
     "output_type": "stream",
     "text": [
      "Enter your choice:  2\n"
     ]
    }
   ],
   "source": [
    "#write menu driven python program to implement atleast 5 build in functions of list\n",
    "def main():\n",
    "    my_list = [10,6,3,7,2,8,9,1,4]\n",
    "    while True:\n",
    "        print(\"\\nMenu:\")\n",
    "        print(\"1. Append an element\")\n",
    "        print(\"2. Insert an element at a position\")\n",
    "        print(\"3. Remove an element\")\n",
    "        print(\"4. Sort the list\")\n",
    "        print(\"5. Reverse the list\")\n",
    "        print(\"6. Exit\")\n",
    "        \n",
    "        choice = int(input(\"Enter your choice: \"))\n",
    "        \n",
    "        if choice == 1:\n",
    "            elem = input(\"Enter element to append: \")\n",
    "            my_list.append(elem)\n",
    "        elif choice == 2:\n",
    "            elem = input(\"Enter element to insert: \")\n",
    "            pos = int(input(\"Enter position: \"))\n",
    "            my_list.insert(pos, elem)\n",
    "        elif choice == 3:\n",
    "            elem = input(\"Enter element to remove: \")\n",
    "            if elem in my_list:\n",
    "                my_list.remove(elem)\n",
    "            else:\n",
    "                print(\"Element not found in the list.\")\n",
    "        elif choice == 4:\n",
    "            my_list.sort()\n",
    "            print(\"List sorted.\")\n",
    "        elif choice == 5:\n",
    "            my_list.reverse()\n",
    "            print(\"List reversed.\")\n",
    "        elif choice == 6:\n",
    "            print(\"Exiting...\")\n",
    "            break\n",
    "        else:\n",
    "            print(\"Invalid choice, please try again.\")\n",
    "        \n",
    "        print(\"Current list:\", my_list)\n",
    "        \n",
    "if __name__ == \"__main__\":\n",
    "    main()\n"
   ]
  },
  {
   "cell_type": "code",
   "execution_count": 2,
   "id": "56973ad1-5a6e-43a3-b92d-4426f32ff8a4",
   "metadata": {},
   "outputs": [
    {
     "name": "stdin",
     "output_type": "stream",
     "text": [
      "Enter a string:  a\n"
     ]
    },
    {
     "name": "stdout",
     "output_type": "stream",
     "text": [
      "{'a': 1}\n"
     ]
    }
   ],
   "source": [
    "#write a python program to count occurrences of vowels oresent in a string\n",
    "def count_vowels(s):\n",
    "    vowels = \"aeiouAEIOU\"\n",
    "    return {v: s.count(v) for v in vowels if v in s}\n",
    "text = input(\"Enter a string: \")\n",
    "print(count_vowels(text))\n"
   ]
  },
  {
   "cell_type": "code",
   "execution_count": 4,
   "id": "6c0b4c38-f3dd-4a1c-9e8f-236a1abac06f",
   "metadata": {},
   "outputs": [
    {
     "name": "stdout",
     "output_type": "stream",
     "text": [
      "\n",
      "1.Append 2.Insert 3.Remove 4.Sort 5.Reverse 6.Exit\n"
     ]
    },
    {
     "name": "stdin",
     "output_type": "stream",
     "text": [
      "Enter choice:  3\n",
      "Enter element to remove:  8\n"
     ]
    },
    {
     "name": "stdout",
     "output_type": "stream",
     "text": [
      "Not found.\n",
      "List: [10, 6, 3, 7, 2, 8, 9, 1, 4]\n",
      "\n",
      "1.Append 2.Insert 3.Remove 4.Sort 5.Reverse 6.Exit\n"
     ]
    },
    {
     "name": "stdin",
     "output_type": "stream",
     "text": [
      "Enter choice:  4\n"
     ]
    },
    {
     "name": "stdout",
     "output_type": "stream",
     "text": [
      "List: [1, 2, 3, 4, 6, 7, 8, 9, 10]\n",
      "\n",
      "1.Append 2.Insert 3.Remove 4.Sort 5.Reverse 6.Exit\n"
     ]
    },
    {
     "name": "stdin",
     "output_type": "stream",
     "text": [
      "Enter choice:  6\n"
     ]
    }
   ],
   "source": [
    "my_list = [10,6,3,7,2,8,9,1,4]\n",
    "\n",
    "while True:\n",
    "    print(\"\\n1.Append 2.Insert 3.Remove 4.Sort 5.Reverse 6.Exit\")\n",
    "    choice = int(input(\"Enter choice: \"))\n",
    "    \n",
    "    if choice == 1:\n",
    "        my_list.append(input(\"Enter element: \"))\n",
    "    elif choice == 2:\n",
    "        my_list.insert(int(input(\"Position: \")), input(\"Element: \"))\n",
    "    elif choice == 3:\n",
    "        elem = input(\"Enter element to remove: \")\n",
    "        if elem in my_list:\n",
    "            my_list.remove(elem)\n",
    "        else:\n",
    "            print(\"Not found.\")\n",
    "    elif choice == 4:\n",
    "        my_list.sort()\n",
    "    elif choice == 5:\n",
    "        my_list.reverse()\n",
    "    elif choice == 6:\n",
    "        break\n",
    "    else:\n",
    "        print(\"Invalid choice.\")\n",
    "    \n",
    "    print(\"List:\", my_list)\n"
   ]
  },
  {
   "cell_type": "code",
   "execution_count": 5,
   "id": "8157f6f6-ef29-4bcd-8ebe-0856048ce2ae",
   "metadata": {},
   "outputs": [
    {
     "name": "stdin",
     "output_type": "stream",
     "text": [
      "Enter a string:  hello my name is akanksha \n"
     ]
    },
    {
     "name": "stdout",
     "output_type": "stream",
     "text": [
      "{'a': 4, 'e': 2, 'i': 1, 'o': 1}\n"
     ]
    }
   ],
   "source": [
    "#write a python program to count occurrences of vowels oresent in a string\n",
    "def count_vowels(s):\n",
    "    vowels = \"aeiouAEIOU\"\n",
    "    return {v: s.count(v) for v in vowels if v in s}\n",
    "text = input(\"Enter a string: \")\n",
    "print(count_vowels(text))"
   ]
  },
  {
   "cell_type": "code",
   "execution_count": null,
   "id": "da0ff2cf-419a-4b41-a21a-fa83b72ddb03",
   "metadata": {},
   "outputs": [],
   "source": []
  }
 ],
 "metadata": {
  "kernelspec": {
   "display_name": "Python 3 (ipykernel)",
   "language": "python",
   "name": "python3"
  },
  "language_info": {
   "codemirror_mode": {
    "name": "ipython",
    "version": 3
   },
   "file_extension": ".py",
   "mimetype": "text/x-python",
   "name": "python",
   "nbconvert_exporter": "python",
   "pygments_lexer": "ipython3",
   "version": "3.12.7"
  }
 },
 "nbformat": 4,
 "nbformat_minor": 5
}
