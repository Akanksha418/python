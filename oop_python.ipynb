{
 "cells": [
  {
   "cell_type": "code",
   "execution_count": 17,
   "id": "3bfeeee3-a114-4374-b0c4-fa683ad3677e",
   "metadata": {},
   "outputs": [
    {
     "name": "stdout",
     "output_type": "stream",
     "text": [
      "Roll number = 10 name = abc classname = bca\n",
      "this is lab session\n"
     ]
    }
   ],
   "source": [
    "# OOP Python\n",
    "\n",
    "class student:\n",
    "    rollno = 10\n",
    "    name = \"abc\"\n",
    "    classname = \"bca\"\n",
    "\n",
    "    def display(self):\n",
    "        print(\"Roll number =\", self.rollno, \"name =\", self.name, \"classname =\", self.classname)\n",
    "\n",
    "s1 = student()\n",
    "s2 = student()\n",
    "\n",
    "# Call the display function\n",
    "s1.display()  # This will print student details\n",
    "\n",
    "\n",
    "class withfunctions:\n",
    "    num1 = 200\n",
    "    num2 = 100\n",
    "\n",
    "    def __init__(self, num1, num2):\n",
    "        self.num1 = num1\n",
    "        self.num2 = num2\n",
    "\n",
    "    def lab(self):\n",
    "        print(\"this is lab session\")\n",
    "\n",
    "# Create an object of withfunctions\n",
    "obj = withfunctions(10, 20)\n",
    "\n",
    "# Call the lab function\n",
    "obj.lab()  # This will print \"this is lab session\"\n"
   ]
  },
  {
   "cell_type": "code",
   "execution_count": 1,
   "id": "0d8891c5-0ef3-4d32-b432-69ba73c6dade",
   "metadata": {},
   "outputs": [
    {
     "name": "stdin",
     "output_type": "stream",
     "text": [
      "Enter Employee 1 Number:  83783892070\n",
      "Enter Employee 1 Name:  Akanksha\n",
      "Enter Employee 1 Salary:  800000\n",
      "Enter Employee 2 Number:  73749327556\n",
      "Enter Employee 2 Name:  Ankit\n",
      "Enter Employee 2 Salary:  900000\n"
     ]
    },
    {
     "name": "stdout",
     "output_type": "stream",
     "text": [
      "\n",
      "Employee Number: 83783892070\n",
      "Employee Name: Akanksha\n",
      "Employee Salary: 800000\n",
      "\n",
      "Employee Number: 73749327556\n",
      "Employee Name: Ankit\n",
      "Employee Salary: 900000\n"
     ]
    }
   ],
   "source": [
    "\n",
    "class Employee:\n",
    "    def __init__(e, emp_number, emp_name, emp_salary):\n",
    "        e.emp_number = emp_number\n",
    "        e.emp_name = emp_name\n",
    "        e.emp_salary = emp_salary\n",
    "\n",
    "    def display(e):\n",
    "        print(f\"\\nEmployee Number: {e.emp_number}\")\n",
    "        print(f\"Employee Name: {e.emp_name}\")\n",
    "        print(f\"Employee Salary: {e.emp_salary}\")\n",
    "\n",
    "# Taking user input and creating two employee objects\n",
    "emp1 = Employee(input(\"Enter Employee 1 Number: \"), input(\"Enter Employee 1 Name: \"), input(\"Enter Employee 1 Salary: \"))\n",
    "emp2 = Employee(input(\"Enter Employee 2 Number: \"), input(\"Enter Employee 2 Name: \"), input(\"Enter Employee 2 Salary: \"))\n",
    "\n",
    "# Displaying employee details\n",
    "emp1.display()\n",
    "emp2.display()\n"
   ]
  },
  {
   "cell_type": "code",
   "execution_count": 2,
   "id": "04183cad-ebbc-4184-92e3-1da84d14f502",
   "metadata": {},
   "outputs": [
    {
     "name": "stdin",
     "output_type": "stream",
     "text": [
      "Enter a number:  6\n"
     ]
    },
    {
     "name": "stdout",
     "output_type": "stream",
     "text": [
      "Factorial of 6 is: 720\n"
     ]
    }
   ],
   "source": [
    "#Write a basic python program to implement class,object ,user defined function to display factorial of a number \n",
    "\n",
    "class Math:\n",
    "    def factorial(self, num):\n",
    "        if num == 0:\n",
    "            return 1\n",
    "        else:\n",
    "            return num * self.factorial(num-1)\n",
    "\n",
    "obj = Math()\n",
    "num = int(input(\"Enter a number: \"))\n",
    "print(\"Factorial of\", num, \"is:\", obj.factorial(num))\n"
   ]
  },
  {
   "cell_type": "code",
   "execution_count": 3,
   "id": "5d92833d-e706-4442-95fe-77832f8a3d57",
   "metadata": {},
   "outputs": [
    {
     "name": "stdin",
     "output_type": "stream",
     "text": [
      "Enter a number:  567\n"
     ]
    },
    {
     "name": "stdout",
     "output_type": "stream",
     "text": [
      "Reverse of 567 is: 765\n"
     ]
    }
   ],
   "source": [
    "#Write a basic python program to implement class,object ,user defined function to display reverse of a number\n",
    "\n",
    "\n",
    "class ReverseNumber:\n",
    "    def reverse(self, num):\n",
    "        reversed_num = 0\n",
    "        while num != 0:\n",
    "            remainder = num % 10\n",
    "            reversed_num = (reversed_num * 10) + remainder\n",
    "            num = num // 10\n",
    "        return reversed_num\n",
    "\n",
    "obj = ReverseNumber()\n",
    "num = int(input(\"Enter a number: \"))\n",
    "print(\"Reverse of\", num, \"is:\", obj.reverse(num))\n"
   ]
  },
  {
   "cell_type": "code",
   "execution_count": 2,
   "id": "b6916fff-4044-4805-8bd1-6fccf3c539ed",
   "metadata": {},
   "outputs": [
    {
     "name": "stdin",
     "output_type": "stream",
     "text": [
      "Enter a number:  121\n"
     ]
    },
    {
     "name": "stdout",
     "output_type": "stream",
     "text": [
      "121 is a palindrome.\n"
     ]
    }
   ],
   "source": [
    "#Write a basic python program to implement class,object ,user defined function to check whether the number is palindrome or not\n",
    "\n",
    "class PalindromeChecker:\n",
    "    def __init__(self, number):\n",
    "        self.number = number\n",
    "    \n",
    "    def is_palindrome(self):\n",
    "        # Convert number to string and check if it's the same when reversed\n",
    "        return str(self.number) == str(self.number)[::-1]\n",
    "\n",
    "# Take user input\n",
    "num = int(input(\"Enter a number: \"))\n",
    "\n",
    "# Create an object of PalindromeChecker\n",
    "checker = PalindromeChecker(num)\n",
    "\n",
    "# Check if the number is a palindrome and print result\n",
    "if checker.is_palindrome():\n",
    "    print(f\"{num} is a palindrome.\")\n",
    "else:\n",
    "    print(f\"{num} is not a palindrome.\")\n"
   ]
  },
  {
   "cell_type": "code",
   "execution_count": null,
   "id": "a2fb9960-11f6-4ec9-bbb3-8b84a3fff40c",
   "metadata": {},
   "outputs": [],
   "source": []
  }
 ],
 "metadata": {
  "kernelspec": {
   "display_name": "Python 3 (ipykernel)",
   "language": "python",
   "name": "python3"
  },
  "language_info": {
   "codemirror_mode": {
    "name": "ipython",
    "version": 3
   },
   "file_extension": ".py",
   "mimetype": "text/x-python",
   "name": "python",
   "nbconvert_exporter": "python",
   "pygments_lexer": "ipython3",
   "version": "3.12.7"
  }
 },
 "nbformat": 4,
 "nbformat_minor": 5
}
