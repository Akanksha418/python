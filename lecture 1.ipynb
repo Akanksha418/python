{
 "cells": [
  {
   "cell_type": "code",
   "execution_count": 2,
   "id": "b3218f8e-8a2a-4f99-9a83-42acf858abc7",
   "metadata": {},
   "outputs": [
    {
     "name": "stdout",
     "output_type": "stream",
     "text": [
      "[1, 2, 3, 4, 5, 6, 7]\n"
     ]
    }
   ],
   "source": [
    "my_list = [1, 2, 2, 3, 4, 4, 5, 6, 6, 7]\n",
    "my_list = list(set(my_list))\n",
    "print(my_list)"
   ]
  },
  {
   "cell_type": "code",
   "execution_count": 5,
   "id": "faacac49-1520-4699-adb9-7d2c19d5d06b",
   "metadata": {},
   "outputs": [
    {
     "name": "stdout",
     "output_type": "stream",
     "text": [
      "[2, 4, 6, 8, 10, 12, 14, 16, 18, 20, 22, 24, 26, 28, 30, 32, 34, 36, 38, 40, 42, 44, 46, 48, 50, 52, 54, 56, 58, 60, 62, 64, 66, 68, 70, 72, 74, 76, 78, 80, 82, 84, 86, 88, 90, 92, 94, 96, 98, 100]\n"
     ]
    }
   ],
   "source": [
    "even_numbers = [i for i in range(1, 101) if i % 2 == 0]\n",
    "print(even_numbers)\n"
   ]
  },
  {
   "cell_type": "code",
   "execution_count": null,
   "id": "d624cae2-4e73-4dc3-9f1d-1bb07fc2fd9c",
   "metadata": {},
   "outputs": [],
   "source": []
  },
  {
   "cell_type": "code",
   "execution_count": 3,
   "id": "d0bc42c4-5aaf-4917-bbd6-7f3bc8591b16",
   "metadata": {},
   "outputs": [
    {
     "name": "stdout",
     "output_type": "stream",
     "text": [
      "First_List =  [1, 2, 3, 4, 5, 6, 7, 8, 9, 10]\n",
      "Second_List =  ['Riya', 'Shivam', 'Narendra', 'Tukaram', 'Ashu']\n"
     ]
    },
    {
     "name": "stdout",
     "output_type": "stream",
     "text": [
      "1. Add Number To List \n",
      " 2. Remove Number From List \n",
      " 3. Merge Two List \n",
      " Select Your Choice From 1-3: 4\n"
     ]
    }
   ],
   "source": [
    "# Menu Driven Program For List Understanding\n",
    "\n",
    "first_list = [1,2,3,4,5,6,7,8,9,10]\n",
    "second_list = [\"Riya\",\"Shivam\",\"Narendra\",\"Tukaram\",\"Ashu\"]\n",
    "print(\"First_List = \",first_list)\n",
    "print(\"Second_List = \",second_list)\n",
    "while True:\n",
    "    choice = int(input(\"1. Add Number To List \\n 2. Remove Number From List \\n 3. Merge Two List \\n Select Your Choice From 1-3:\"))\n",
    "    if(choice == 1):\n",
    "        num = int(input(\"Enter Number To Add In The List: \"))\n",
    "        first_list.append(num)\n",
    "        print(first_list)\n",
    "        \n",
    "    elif(choice == 2):\n",
    "        remove_num = int(input(\"Enter Number To Remove From List: \"))\n",
    "        first_list.pop(remove_num)\n",
    "        print(first_list)\n",
    "    elif(choice == 3):\n",
    "        first_list.extend(second_list)\n",
    "        print(first_list)\n",
    "    else:\n",
    "        break"
   ]
  },
  {
   "cell_type": "code",
   "execution_count": 7,
   "id": "e67c1e14-a0fe-48a2-88f7-a240db5f5995",
   "metadata": {},
   "outputs": [
    {
     "name": "stdout",
     "output_type": "stream",
     "text": [
      "First 3 elements: [12, 45, 7]\n",
      "Elements excluding 1st and last: [45, 7, 23, 56, 89, 34, 6, 98]\n",
      "List in descending order: [98, 89, 56, 45, 34, 23, 21, 12, 7, 6]\n"
     ]
    }
   ],
   "source": [
    "#descending oreder\n",
    "my_list = [12, 45, 7, 23, 56, 89, 34, 6, 98, 21]\n",
    "print(\"First 3 elements:\", my_list[:3])\n",
    "print(\"Elements excluding 1st and last:\", my_list[1:-1])\n",
    "my_list.sort()\n",
    "my_list.reverse()\n",
    "print(\"List in descending order:\", my_list)"
   ]
  },
  {
   "cell_type": "code",
   "execution_count": 4,
   "id": "06fcc6a5-29e4-4f14-a1ec-29e7c89ddb0f",
   "metadata": {},
   "outputs": [
    {
     "name": "stdout",
     "output_type": "stream",
     "text": [
      "Common Elements: [3, 4, 5]\n"
     ]
    }
   ],
   "source": [
    "#create 2 list with 5 elements each and display common elements from both the list stored in the 3rd list\n",
    "# Define two lists with 5 elements each\n",
    "list1 = [1, 2, 3, 4, 5]\n",
    "list2 = [3, 4, 5, 6, 7]\n",
    "common_elements = [item for item in list1 if item in list2]\n",
    "print(\"Common Elements:\", common_elements)\n"
   ]
  },
  {
   "cell_type": "code",
   "execution_count": 1,
   "id": "51070930-a94c-42ab-a98b-e37285460aff",
   "metadata": {},
   "outputs": [
    {
     "name": "stdout",
     "output_type": "stream",
     "text": [
      "You are eligible to vote.\n",
      "Please register to vote.\n"
     ]
    }
   ],
   "source": [
    "#correct indentation\n",
    "age = 20\n",
    "\n",
    "if age >= 18:\n",
    "    print(\"You are eligible to vote.\")  \n",
    "    print(\"Please register to vote.\")   \n",
    "else:\n",
    "    print(\"You are not eligible to vote.\")  \n"
   ]
  },
  {
   "cell_type": "code",
   "execution_count": 3,
   "id": "5e927187-8314-45b0-a619-15ceb700e9f7",
   "metadata": {},
   "outputs": [
    {
     "name": "stdout",
     "output_type": "stream",
     "text": [
      "2\n",
      "4\n",
      "6\n",
      "8\n",
      "10\n",
      "12\n",
      "14\n",
      "16\n",
      "18\n",
      "20\n"
     ]
    }
   ],
   "source": [
    "for number in range(2, 21, 2):  # Start at 2, end at 21 , increment by 2\n",
    "    print(number)"
   ]
  },
  {
   "cell_type": "code",
   "execution_count": 5,
   "id": "b171711e-327b-4b8c-b915-0601ca49945d",
   "metadata": {},
   "outputs": [
    {
     "name": "stdout",
     "output_type": "stream",
     "text": [
      "Enter the first number:  9\n",
      "Enter the second number:  5\n",
      "Enter the third number:  6\n"
     ]
    },
    {
     "name": "stdout",
     "output_type": "stream",
     "text": [
      "The largest number is: 9.0\n"
     ]
    }
   ],
   "source": [
    "num1 = float(input(\"Enter the first number: \"))\n",
    "num2 = float(input(\"Enter the second number: \"))\n",
    "num3 = float(input(\"Enter the third number: \"))\n",
    "if num1 > num2 and num1 > num3:\n",
    "    largest = num1\n",
    "elif num2 > num1 and num2 > num3:\n",
    "    largest = num2\n",
    "else:\n",
    "    largest = num3\n",
    "print(\"The largest number is:\", largest)"
   ]
  },
  {
   "cell_type": "code",
   "execution_count": 5,
   "id": "15b57f0f-810d-41c7-9fb5-2564e8d4c46d",
   "metadata": {},
   "outputs": [
    {
     "name": "stdout",
     "output_type": "stream",
     "text": [
      "True\n",
      "False\n"
     ]
    }
   ],
   "source": [
    "sentence = \"Python is a versatile programming language.\"\n",
    "print(\"Python\" in sentence)  # True\n",
    "print(\"Java\" in sentence)    # False\n"
   ]
  },
  {
   "cell_type": "code",
   "execution_count": 6,
   "id": "cd894036-ed80-40e5-a436-f746bbcfbf0e",
   "metadata": {},
   "outputs": [
    {
     "name": "stdout",
     "output_type": "stream",
     "text": [
      "Enter a sentence:  hi i am akanksha\n",
      "Enter a word to search for:  hi\n"
     ]
    },
    {
     "name": "stdout",
     "output_type": "stream",
     "text": [
      "The word 'hi' is present in the sentence.\n"
     ]
    }
   ],
   "source": [
    "# User input\n",
    "text = input(\"Enter a sentence: \")\n",
    "substring = input(\"Enter a word to search for: \")\n",
    "\n",
    "# Check for presence\n",
    "if substring in text:\n",
    "    print(f\"The word '{substring}' is present in the sentence.\")\n",
    "else:\n",
    "    print(f\"The word '{substring}' is not present in the sentence.\")\n"
   ]
  },
  {
   "cell_type": "code",
   "execution_count": 5,
   "id": "2a6e9f6b-6fff-46f2-b979-0302708cf89f",
   "metadata": {},
   "outputs": [
    {
     "name": "stdout",
     "output_type": "stream",
     "text": [
      "Python \n"
     ]
    }
   ],
   "source": [
    "text = \"Python Programming\"\n",
    "substring = text[0:7]\n",
    "print(substring)\n"
   ]
  },
  {
   "cell_type": "code",
   "execution_count": 4,
   "id": "c1acb870-9ac4-4667-bdd1-6e80ee2be120",
   "metadata": {},
   "outputs": [
    {
     "name": "stdout",
     "output_type": "stream",
     "text": [
      "Iteration: 1\n",
      "Iteration: 2\n",
      "Iteration: 3\n",
      "Iteration: 4\n",
      "Iteration: 5\n",
      "Iteration: 6\n",
      "Iteration: 7\n",
      "Iteration: 8\n",
      "Iteration: 9\n",
      "Iteration: 10\n",
      "Reached the maximum iterations. Exiting loop.\n"
     ]
    }
   ],
   "source": [
    "def safe_loop():\n",
    "    count = 0\n",
    "    max_iterations = 10  \n",
    "\n",
    "    while True:\n",
    "        print(\"Iteration:\", count + 1)\n",
    "        count += 1\n",
    "        if count >= max_iterations:\n",
    "            print(\"Reached the maximum iterations. Exiting loop.\")\n",
    "            break  \n",
    "\n",
    "safe_loop()\n"
   ]
  },
  {
   "cell_type": "code",
   "execution_count": 9,
   "id": "bdbf71fc-0f78-48f6-bc43-00d21e9a6b74",
   "metadata": {},
   "outputs": [
    {
     "name": "stdout",
     "output_type": "stream",
     "text": [
      "Enter the student's score (0-100):  67\n"
     ]
    },
    {
     "name": "stdout",
     "output_type": "stream",
     "text": [
      "The student's grade is: D\n"
     ]
    }
   ],
   "source": [
    "def calculate_grade(score):\n",
    "    \"\"\"\n",
    "    Calculate grade based on score.\n",
    "    \"\"\"\n",
    "    if 90 <= score <= 100:\n",
    "        return \"A\"\n",
    "    elif 80 <= score < 90:\n",
    "        return \"B\"\n",
    "    elif 70 <= score < 80:\n",
    "        return \"C\"\n",
    "    elif 60 <= score < 70:\n",
    "        return \"D\"\n",
    "    else:\n",
    "        return \"F\"\n",
    "\n",
    "def main():\n",
    "    \"\"\"\n",
    "    Main function to get student score and display the grade.\n",
    "    \"\"\"\n",
    "    try:\n",
    "        score = float(input(\"Enter the student's score (0-100): \"))\n",
    "        if 0 <= score <= 100:\n",
    "            grade = calculate_grade(score)\n",
    "            print(f\"The student's grade is: {grade}\")\n",
    "        else:\n",
    "            print(\"Error: The score must be between 0 and 100.\")\n",
    "    except ValueError:\n",
    "        print(\"Error: Invalid input. Please enter a numeric value.\")\n",
    "\n",
    "if __name__ == \"__main__\":\n",
    "    main()\n"
   ]
  },
  {
   "cell_type": "code",
   "execution_count": 1,
   "id": "bf45ec5f-1e2a-444d-84c8-39757f8b9543",
   "metadata": {},
   "outputs": [
    {
     "name": "stdout",
     "output_type": "stream",
     "text": [
      "0\n",
      "1\n",
      "2\n",
      "3\n",
      "4\n"
     ]
    }
   ],
   "source": [
    "#for loop example\n",
    "for i in range(5):\n",
    "    print(i) \n"
   ]
  },
  {
   "cell_type": "code",
   "execution_count": 2,
   "id": "1a51d90e-2200-4e65-8e38-87439bd56a1d",
   "metadata": {},
   "outputs": [
    {
     "name": "stdout",
     "output_type": "stream",
     "text": [
      "0\n",
      "1\n",
      "2\n",
      "3\n",
      "4\n"
     ]
    }
   ],
   "source": [
    "#simple while loop example\n",
    "count = 0\n",
    "while count < 5:\n",
    "    print(count)\n",
    "    count += 1\n"
   ]
  },
  {
   "cell_type": "code",
   "execution_count": 3,
   "id": "2691a420-6b84-4c9a-8c26-0185a3aca527",
   "metadata": {},
   "outputs": [
    {
     "name": "stdout",
     "output_type": "stream",
     "text": [
      "i=0, j=0\n",
      "i=0, j=1\n",
      "i=1, j=0\n",
      "i=1, j=1\n",
      "i=2, j=0\n",
      "i=2, j=1\n"
     ]
    }
   ],
   "source": [
    "#nested for loop\n",
    "for i in range(3):\n",
    "    for j in range(2):\n",
    "        print(f\"i={i}, j={j}\")\n"
   ]
  },
  {
   "cell_type": "code",
   "execution_count": 4,
   "id": "4dbb9eaf-77ca-4336-8cbc-cc15dd765b7c",
   "metadata": {},
   "outputs": [
    {
     "name": "stdout",
     "output_type": "stream",
     "text": [
      "Enter the number of terms:  6\n"
     ]
    },
    {
     "name": "stdout",
     "output_type": "stream",
     "text": [
      "Fibonacci sequence up to 6 terms: [0, 1, 1, 2, 3, 5]\n"
     ]
    }
   ],
   "source": [
    "def fibonacci_sequence(n_terms):\n",
    "    if n_terms <= 0:\n",
    "        print(\"Please enter a positive integer.\")\n",
    "        return\n",
    "    elif n_terms == 1:\n",
    "        print(\"Fibonacci sequence: 0\")\n",
    "        return\n",
    "\n",
    "    sequence = [0, 1]\n",
    "    for i in range(2, n_terms):\n",
    "        next_term = sequence[-1] + sequence[-2]\n",
    "        sequence.append(next_term)\n",
    "\n",
    "    print(f\"Fibonacci sequence up to {n_terms} terms: {sequence}\")\n",
    "num_terms = int(input(\"Enter the number of terms: \"))\n",
    "fibonacci_sequence(num_terms)\n"
   ]
  },
  {
   "cell_type": "code",
   "execution_count": 5,
   "id": "74ed81a1-7778-4719-a2a2-c967e173ad79",
   "metadata": {},
   "outputs": [
    {
     "name": "stdout",
     "output_type": "stream",
     "text": [
      "Enter a positive number (or a negative number to stop):  9\n",
      "Enter a positive number (or a negative number to stop):  8\n",
      "Enter a positive number (or a negative number to stop):  -9\n"
     ]
    },
    {
     "name": "stdout",
     "output_type": "stream",
     "text": [
      "Total sum of positive numbers: 17\n"
     ]
    }
   ],
   "source": [
    "total_sum = 0\n",
    "\n",
    "while True:\n",
    "    num = int(input(\"Enter a positive number (or a negative number to stop): \"))\n",
    "    if num < 0:\n",
    "        break\n",
    "    total_sum += num\n",
    "\n",
    "print(f\"Total sum of positive numbers: {total_sum}\")\n"
   ]
  },
  {
   "cell_type": "code",
   "execution_count": 2,
   "id": "8c17abd4-3c2b-40e9-b562-5fa03d6da058",
   "metadata": {
    "scrolled": true
   },
   "outputs": [
    {
     "name": "stdout",
     "output_type": "stream",
     "text": [
      "{}\n",
      "{1: 'AI', 2: 'Microservices using Java', 3: 'Cloud Computing'}\n",
      "{1: 'AI', 2: 'Microservices using Java', 3: 'Cloud'}\n",
      "{'First': 'Lab on Python', 'Second': 'Lab on Microservices', 'Third': 'Lab on AI'}\n",
      "{'First': 'Lab on Python', 'Second': 'Next Generation Db', 'Third': 'Lab on AI'}\n",
      "Lab on Python\n",
      "Next Generation Db\n",
      "dict_keys(['First', 'Second', 'Third'])\n",
      "dict_values(['Lab on Python', 'Next Generation Db', 'Lab on AI'])\n",
      "dict_items([('First', 'Lab on Python'), ('Second', 'Next Generation Db'), ('Third', 'Lab on AI')])\n",
      "Value: Lab on AI\n",
      "Dictionary: {'First': 'Lab on Python', 'Second': 'Next Generation Db'}\n",
      "Key, value pair: ('Second', 'Next Generation Db')\n",
      "Dictionary {'First': 'Lab on Python'}\n",
      "ndict {}\n"
     ]
    }
   ],
   "source": [
    "#Dictionary\n",
    "\n",
    "dict1 = {} \n",
    "print(dict1)\n",
    "dict1 = {1: 'AI', 2: 'Microservices using Java', 3:'Cloud Computing'} \n",
    "print(dict1)\n",
    "dict1[3]='Cloud'# change the value\n",
    "print(dict1)\n",
    "dict1 = {'First': 'Lab on Python', 'Second': 'Lab on Microservices','Third':'Lab on AI'}\n",
    "print(dict1)\n",
    "dict1['Second']='Next Generation Db'\n",
    "print(dict1)\n",
    "\n",
    "#Accessing \n",
    "print(dict1['First'])\n",
    "print(dict1.get('Second'))\n",
    "print(dict1.keys())\n",
    "print(dict1.values())\n",
    "print(dict1.items())\n",
    "#Deleting \n",
    "popedvalue = dict1.pop('Third')\n",
    "print('Value:', popedvalue)\n",
    "print('Dictionary:', dict1)\n",
    "popkeyvalue = dict1.popitem()\n",
    "print('Key, value pair:', popkeyvalue)\n",
    "print('Dictionary', dict1)\n",
    "dict1.clear()\n",
    "print('ndict', dict1)"
   ]
  },
  {
   "cell_type": "code",
   "execution_count": 6,
   "id": "efd18ff3-03ab-4d2f-93b1-1a89581b2bf7",
   "metadata": {},
   "outputs": [
    {
     "name": "stdout",
     "output_type": "stream",
     "text": [
      "Merged Dictionary: {'a': 1, 'b': 2, 'c': 3, 'd': 4, 'e': 5, 'f': 6, 'g': 7, 'h': 8, 'i': 9, 'j': 10}\n"
     ]
    }
   ],
   "source": [
    "# create two dict with 5 key-value pairs merge both dict andt store it into 3rd dict\n",
    "dict1 = {\"a\": 1, \"b\": 2, \"c\": 3, \"d\": 4, \"e\": 5}\n",
    "dict2 = {\"f\": 6, \"g\": 7, \"h\": 8, \"i\": 9, \"j\": 10}\n",
    "dict3 = {**dict1, **dict2}\n",
    "print(\"Merged Dictionary:\", dict3)\n",
    "\n",
    "# create a menu driven prg to implement 1.add a student 2.remove a student 3.print grades of a student 4.print the menu 5.exit\n",
    "#(use dict,while-loop and variations of if-else)"
   ]
  },
  {
   "cell_type": "code",
   "execution_count": null,
   "id": "f51e5bf5-ca91-44fb-83d0-2d9f1a9d5149",
   "metadata": {},
   "outputs": [],
   "source": []
  },
  {
   "cell_type": "code",
   "execution_count": 3,
   "id": "93118cb7-4398-441b-85f9-30f0a68ee4a4",
   "metadata": {},
   "outputs": [
    {
     "name": "stdout",
     "output_type": "stream",
     "text": [
      "\n",
      "Menu:\n",
      "1. Add key-value pair\n",
      "2. Display dictionary\n",
      "3. Exit\n"
     ]
    },
    {
     "name": "stdout",
     "output_type": "stream",
     "text": [
      "Enter your choice:  2\n"
     ]
    },
    {
     "name": "stdout",
     "output_type": "stream",
     "text": [
      "Dictionary: {}\n",
      "\n",
      "Menu:\n",
      "1. Add key-value pair\n",
      "2. Display dictionary\n",
      "3. Exit\n"
     ]
    },
    {
     "name": "stdout",
     "output_type": "stream",
     "text": [
      "Enter your choice:  3\n"
     ]
    },
    {
     "name": "stdout",
     "output_type": "stream",
     "text": [
      "Exiting...\n"
     ]
    }
   ],
   "source": [
    "#write py prg to create a menu and implement various operations, built-in functions of dict\n",
    "def main():\n",
    "    my_dict = {}  \n",
    "    \n",
    "    while True:\n",
    "        print(\"\\nMenu:\")\n",
    "        print(\"1. Add key-value pair\")\n",
    "        print(\"2. Display dictionary\")\n",
    "        print(\"3. Exit\")\n",
    "        \n",
    "        choice = input(\"Enter your choice: \")\n",
    "        \n",
    "        if choice == '1':\n",
    "            key = input(\"Enter key: \")\n",
    "            value = input(\"Enter value: \")\n",
    "            my_dict[key] = value\n",
    "            print(\"Pair added.\")\n",
    "        \n",
    "        elif choice == '2':\n",
    "            print(\"Dictionary:\", my_dict)\n",
    "        \n",
    "        elif choice == '3':\n",
    "            print(\"Exiting...\")\n",
    "            break\n",
    "        else:\n",
    "            print(\"Invalid choice, try again.\")\n",
    "\n",
    "if __name__ == \"__main__\":\n",
    "    main()\n"
   ]
  },
  {
   "cell_type": "code",
   "execution_count": null,
   "id": "746d52ff-c9e0-4bd2-aeb0-5f4a3baf13fd",
   "metadata": {},
   "outputs": [
    {
     "name": "stdout",
     "output_type": "stream",
     "text": [
      "Enter elements of tuple separated by space:  2\n"
     ]
    },
    {
     "name": "stdout",
     "output_type": "stream",
     "text": [
      "\n",
      "Tuple Built-in Functions Menu:\n",
      "1. Length of Tuple\n",
      "2. Maximum Element in Tuple\n",
      "3. Minimum Element in Tuple\n",
      "4. Sum of Elements in Tuple\n",
      "5. Count Occurrences of an Element\n",
      "6. Find Index of an Element\n",
      "7. Convert Tuple to List\n",
      "8. Exit\n"
     ]
    },
    {
     "name": "stdout",
     "output_type": "stream",
     "text": [
      "Enter your choice:  3\n"
     ]
    },
    {
     "name": "stdout",
     "output_type": "stream",
     "text": [
      "Minimum element: 2\n",
      "\n",
      "Tuple Built-in Functions Menu:\n",
      "1. Length of Tuple\n",
      "2. Maximum Element in Tuple\n",
      "3. Minimum Element in Tuple\n",
      "4. Sum of Elements in Tuple\n",
      "5. Count Occurrences of an Element\n",
      "6. Find Index of an Element\n",
      "7. Convert Tuple to List\n",
      "8. Exit\n"
     ]
    }
   ],
   "source": [
    "#write menu driven python program to implement atleast 5 build in functions for a tuple\n",
    "\n",
    "def display_menu():\n",
    "    print(\"\\nTuple Built-in Functions Menu:\")\n",
    "    print(\"1. Length of Tuple\")\n",
    "    print(\"2. Maximum Element in Tuple\")\n",
    "    print(\"3. Minimum Element in Tuple\")\n",
    "    print(\"4. Sum of Elements in Tuple\")\n",
    "    print(\"5. Count Occurrences of an Element\")\n",
    "    print(\"6. Find Index of an Element\")\n",
    "    print(\"7. Convert Tuple to List\")\n",
    "    print(\"8. Exit\")\n",
    "\n",
    "def main():\n",
    "    my_tuple = tuple(map(int, input(\"Enter elements of tuple separated by space: \").split()))\n",
    "    \n",
    "    while True:\n",
    "        display_menu()\n",
    "        choice = int(input(\"Enter your choice: \"))\n",
    "        \n",
    "        if choice == 1:\n",
    "            print(\"Length of tuple:\", len(my_tuple))\n",
    "        elif choice == 2:\n",
    "            print(\"Maximum element:\", max(my_tuple))\n",
    "        elif choice == 3:\n",
    "            print(\"Minimum element:\", min(my_tuple))\n",
    "        elif choice == 4:\n",
    "            print(\"Sum of elements:\", sum(my_tuple))\n",
    "        elif choice == 5:\n",
    "            element = int(input(\"Enter element to count: \"))\n",
    "            print(f\"{element} occurs {my_tuple.count(element)} times\")\n",
    "        elif choice == 6:\n",
    "            element = int(input(\"Enter element to find index: \"))\n",
    "            print(f\"Index of {element} is {my_tuple.index(element)}\")\n",
    "        elif choice == 7:\n",
    "            print(\"Tuple converted to list:\", list(my_tuple))\n",
    "        elif choice == 8:\n",
    "            print(\"Exiting program. Goodbye!\")\n",
    "            break\n",
    "        else:\n",
    "            print(\"Invalid choice. Please try again.\")\n",
    "\n",
    "if __name__ == \"__main__\":\n",
    "    main()\n",
    "\n"
   ]
  },
  {
   "cell_type": "code",
   "execution_count": null,
   "id": "95ae96f2-f438-4ba5-9644-9dea67b8eb94",
   "metadata": {},
   "outputs": [
    {
     "name": "stdout",
     "output_type": "stream",
     "text": [
      "\n",
      "Set Operations Menu:\n",
      "1. Add element\n",
      "2. Remove element\n",
      "3. Pop element\n",
      "4. Clear set\n",
      "5. Union of sets\n",
      "6. Intersection of sets\n",
      "7. Difference of sets\n",
      "8. Symmetric Difference of sets\n",
      "9. Check membership\n",
      "10. Display set\n",
      "11. Exit\n"
     ]
    },
    {
     "name": "stdout",
     "output_type": "stream",
     "text": [
      "Enter your choice (1-11):  5\n"
     ]
    }
   ],
   "source": [
    "#write menu driven python program to implement all build in functions for a set\n",
    "\n",
    "def display_menu():\n",
    "    print(\"\\nSet Operations Menu:\")\n",
    "    print(\"1. Add element\")\n",
    "    print(\"2. Remove element\")\n",
    "    print(\"3. Pop element\")\n",
    "    print(\"4. Clear set\")\n",
    "    print(\"5. Union of sets\")\n",
    "    print(\"6. Intersection of sets\")\n",
    "    print(\"7. Difference of sets\")\n",
    "    print(\"8. Symmetric Difference of sets\")\n",
    "    print(\"9. Check membership\")\n",
    "    print(\"10. Display set\")\n",
    "    print(\"11. Exit\")\n",
    "\n",
    "def main():\n",
    "    my_set = set()\n",
    "    while True:\n",
    "        display_menu()\n",
    "        choice = input(\"Enter your choice (1-11): \")\n",
    "        \n",
    "        if choice == '1':\n",
    "            my_set.add(input(\"Enter element: \"))\n",
    "        elif choice == '2':\n",
    "            my_set.discard(input(\"Enter element: \"))\n",
    "        elif choice == '3':\n",
    "            print(\"Popped:\", my_set.pop() if my_set else \"Set is empty!\")\n",
    "        elif choice == '4':\n",
    "            my_set.clear()\n",
    "            print(\"Set cleared!\")\n",
    "        elif choice in {'5', '6', '7', '8'}:\n",
    "            other_set = set(input(\"Enter elements (comma separated): \").split(','))\n",
    "            operations = {\n",
    "                '5': my_set.union,\n",
    "                '6': my_set.intersection,\n",
    "                '7': my_set.difference,\n",
    "                '8': my_set.symmetric_difference\n",
    "            }\n",
    "            print(\"Result:\", operations[choice](other_set))\n",
    "        elif choice == '9':\n",
    "            print(\"Present\" if input(\"Enter element: \") in my_set else \"Not Present\")\n",
    "        elif choice == '10':\n",
    "            print(\"Current Set:\", my_set)\n",
    "        elif choice == '11':\n",
    "            print(\"Exiting...\")\n",
    "            break\n",
    "        else:\n",
    "            print(\"Invalid choice!\")\n",
    "\n",
    "if __name__ == \"__main__\":\n",
    "    main()\n"
   ]
  },
  {
   "cell_type": "code",
   "execution_count": 1,
   "id": "dd99e93f-87a8-4790-8402-aaefcefa725c",
   "metadata": {},
   "outputs": [
    {
     "name": "stdout",
     "output_type": "stream",
     "text": [
      "Python\n",
      "I love Python.\n",
      "e\n",
      "e\n",
      "ell\n"
     ]
    },
    {
     "ename": "TypeError",
     "evalue": "'str' object does not support item assignment",
     "output_type": "error",
     "traceback": [
      "\u001b[1;31m---------------------------------------------------------------------------\u001b[0m",
      "\u001b[1;31mTypeError\u001b[0m                                 Traceback (most recent call last)",
      "Cell \u001b[1;32mIn[1], line 27\u001b[0m\n\u001b[0;32m     25\u001b[0m \u001b[38;5;66;03m#Strings are immutable\u001b[39;00m\n\u001b[0;32m     26\u001b[0m message \u001b[38;5;241m=\u001b[39m \u001b[38;5;124m'\u001b[39m\u001b[38;5;124mHello Everyone\u001b[39m\u001b[38;5;124m'\u001b[39m\n\u001b[1;32m---> 27\u001b[0m message[\u001b[38;5;241m0\u001b[39m] \u001b[38;5;241m=\u001b[39m \u001b[38;5;124m'\u001b[39m\u001b[38;5;124mM\u001b[39m\u001b[38;5;124m'\u001b[39m\n\u001b[0;32m     28\u001b[0m \u001b[38;5;28mprint\u001b[39m(message)\n\u001b[0;32m     30\u001b[0m \u001b[38;5;66;03m#We can use variable name\u001b[39;00m\n",
      "\u001b[1;31mTypeError\u001b[0m: 'str' object does not support item assignment"
     ]
    }
   ],
   "source": [
    "#Strings\n",
    "\n",
    "# create a string using double quotes\n",
    "string1 = \"Python programming\"\n",
    "\n",
    "# create a string using single quotes\n",
    "string1 = 'Python programming'\n",
    "\n",
    "# create string type variables\n",
    "name = \"Python\"\n",
    "print(name)\n",
    "message = \"I love Python.\"\n",
    "print(message)\n",
    "\n",
    "#Access String Characters in Python\n",
    "#1. Indexing\n",
    "message = 'hello'\n",
    "# access 1st index element\n",
    "print(message[1]) # \"e\"\n",
    "\n",
    "#2. Use of negative index\n",
    "message = 'hello'\n",
    "\n",
    "# access 4th last element\n",
    "print(message[-4]) # \"e\"\n",
    "\n",
    "#3.Slicing\n",
    "message = 'Hello'\n",
    "\n",
    "# access character from 1st index to 3rd index\n",
    "print(message[1:4])  # \"ell\"\n",
    "\n",
    "#Strings are immutable\n",
    "message = 'Hello Everyone'\n",
    "message[0] = 'M'\n",
    "print(message)\n",
    "\n",
    "#We can use variable name\n",
    "message = 'Good Morning'\n",
    "# assign new string to message variable\n",
    "message = 'Hello Everyone'\n",
    "print(message); # prints \"Hello Everyone\"\n",
    "\n",
    "# multiline string \n",
    "message = \"\"\"\n",
    "Basics is very important\n",
    "It forms the foundation for placement\n",
    "\"\"\"\n",
    "print(message)\n",
    "\n",
    "#Operations on string---Compare two strings\n",
    "str1 = \"Hello, world\"\n",
    "str2 = \"I love Python.\"\n",
    "str3 = \"Hello, world!\"\n",
    "# compare str1 and str2\n",
    "print(str1 == str2)\n",
    "# compare str1 and str3\n",
    "print(str1 == str3)"
   ]
  },
  {
   "cell_type": "code",
   "execution_count": null,
   "id": "572104fa-68a7-42c9-bade-b8faa9367278",
   "metadata": {},
   "outputs": [],
   "source": [
    "#write a py prg to display factorial\n",
    "#to display fibonacci series\n",
    "# to check a number is armstrong\n",
    "#to check whether the number is perfect or not\n",
    "#to display numbeer in reverse order\n",
    "note:\n",
    "take user input"
   ]
  },
  {
   "cell_type": "code",
   "execution_count": 3,
   "id": "73f35220-7fac-4b65-84b8-ff7d0cbd73ac",
   "metadata": {},
   "outputs": [
    {
     "name": "stdout",
     "output_type": "stream",
     "text": [
      "Good Morning Devyani\n",
      "Good Morning AAAA\n",
      "Addition of two numbers is 30\n",
      "The addition of two numbers is: 22\n"
     ]
    }
   ],
   "source": [
    "def gm(name):#name is called as a parameter\n",
    "    print(\"Good Morning\",name)\n",
    "\n",
    "gm(\"Devyani\")#actual value ---argument\n",
    "gm(\"AAAA\")\n",
    "\n",
    "#method passing arguments\n",
    "def add(n1,n2):\n",
    "    res=n1+n2\n",
    "    print(\"Addition of two numbers is\",res)\n",
    "\n",
    "add(10,20)\n",
    "\n",
    "#use of return value\n",
    "\n",
    "def add1(n1,n2):\n",
    "    res1=n1+n2\n",
    "    return res1\n",
    "\n",
    "res1=add1(10,12)\n",
    "print(\"The addition of two numbers is:\",res1)"
   ]
  },
  {
   "cell_type": "code",
   "execution_count": 4,
   "id": "7f026109-8ba3-42ac-8858-d220070bab97",
   "metadata": {},
   "outputs": [
    {
     "name": "stdout",
     "output_type": "stream",
     "text": [
      "pass inside a function\n",
      "The addition of two numbers with default values: 120\n",
      "The addition of two numbers with default values: 60\n",
      "The addition of two numbers with default values: 43\n",
      "First Name: DDD\n",
      "Last Name: KKK\n",
      "Addition =  66\n",
      "Addition =  23\n"
     ]
    },
    {
     "ename": "NameError",
     "evalue": "name 'math' is not defined",
     "output_type": "error",
     "traceback": [
      "\u001b[1;31m---------------------------------------------------------------------------\u001b[0m",
      "\u001b[1;31mNameError\u001b[0m                                 Traceback (most recent call last)",
      "Cell \u001b[1;32mIn[4], line 38\u001b[0m\n\u001b[0;32m     35\u001b[0m add3(\u001b[38;5;241m14\u001b[39m, \u001b[38;5;241m9\u001b[39m)\n\u001b[0;32m     37\u001b[0m \u001b[38;5;66;03m# sqrt computes the square root\u001b[39;00m\n\u001b[1;32m---> 38\u001b[0m square_root \u001b[38;5;241m=\u001b[39m math\u001b[38;5;241m.\u001b[39msqrt(\u001b[38;5;241m16\u001b[39m)\n\u001b[0;32m     39\u001b[0m \u001b[38;5;28mprint\u001b[39m(\u001b[38;5;124m\"\u001b[39m\u001b[38;5;124mSquare Root of 16 is\u001b[39m\u001b[38;5;124m\"\u001b[39m,square_root)\n\u001b[0;32m     41\u001b[0m \u001b[38;5;66;03m# pow() comptes the power\u001b[39;00m\n",
      "\u001b[1;31mNameError\u001b[0m: name 'math' is not defined"
     ]
    }
   ],
   "source": [
    "#Use of pass statement inside function\n",
    "def greet():\n",
    "    pass\n",
    "print(\"pass inside a function\")\n",
    "\n",
    "#function with default arguments\n",
    "def add2(n1=10,n2=33):  \n",
    "    res2=n1+n2\n",
    "    print(\"The addition of two numbers with default values:\",res2)\n",
    "\n",
    "# function call with two arguments\n",
    "add2(105, 15)\n",
    "#  function call with one argument\n",
    "add2(27)\n",
    "# function call with no arguments\n",
    "add2()\n",
    "\n",
    "#use of keyword arguments\n",
    "def display(fName, lName):\n",
    "    print('First Name:', fName)\n",
    "    print('Last Name:', lName)\n",
    "\n",
    "display(lName = 'KKK', fName = 'DDD')\n",
    "\n",
    "# Use of arbitary arguments,program to find sum of multiple numbers \n",
    "def add3(*numbers):\n",
    "    result = 0\n",
    "    for num in numbers:\n",
    "        result = result + num\n",
    "    print(\"Addition = \", result)\n",
    "\n",
    "# function call with 3 arguments\n",
    "add3(11, 22, 33)\n",
    "# function call with 2 arguments\n",
    "add3(14, 9)\n",
    "\n",
    "# sqrt computes the square root\n",
    "square_root = math.sqrt(16)\n",
    "print(\"Square Root of 16 is\",square_root)\n",
    "\n",
    "# pow() comptes the power\n",
    "power = pow(2, 5)\n",
    "print(\"2 to the power 5 is\",power)"
   ]
  },
  {
   "cell_type": "code",
   "execution_count": 5,
   "id": "6e54eb0c-b186-494c-9edd-68000b7e39d2",
   "metadata": {},
   "outputs": [
    {
     "name": "stdout",
     "output_type": "stream",
     "text": [
      "Enter a number:  8\n"
     ]
    },
    {
     "name": "stdout",
     "output_type": "stream",
     "text": [
      "The factorial of 8 is 40320\n"
     ]
    }
   ],
   "source": [
    "#write a py prg to display factorial\n",
    "num = int(input(\"Enter a number: \"))\n",
    "\n",
    "if num < 0:\n",
    "    print(\"Factorial is not defined for negative numbers.\")\n",
    "else:\n",
    "    factorial = 1\n",
    "    for i in range(1, num + 1):\n",
    "        factorial *= i\n",
    "    print(f\"The factorial of {num} is {factorial}\")\n"
   ]
  },
  {
   "cell_type": "code",
   "execution_count": null,
   "id": "0d8aba7a-6ac9-4aae-8f44-dc12c263c281",
   "metadata": {},
   "outputs": [],
   "source": []
  }
 ],
 "metadata": {
  "kernelspec": {
   "display_name": "Python 3 (ipykernel)",
   "language": "python",
   "name": "python3"
  },
  "language_info": {
   "codemirror_mode": {
    "name": "ipython",
    "version": 3
   },
   "file_extension": ".py",
   "mimetype": "text/x-python",
   "name": "python",
   "nbconvert_exporter": "python",
   "pygments_lexer": "ipython3",
   "version": "3.12.7"
  }
 },
 "nbformat": 4,
 "nbformat_minor": 5
}
